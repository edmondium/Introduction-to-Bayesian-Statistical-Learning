{
 "cells": [
  {
   "cell_type": "markdown",
   "metadata": {},
   "source": [
    "Stochastic Variational Bayes - example nonlinear model\n",
    "==============================================\n",
    "\n",
    "This notebook implements stochastic variational Bayes for a nonlinear model. The model we will use is a bi-exponential model, i.e. we will assume our data reflects a time-dependent signal of the following form:\n",
    "\n",
    "$$S_{true}(t) = A_1 e^{-R_1t} + A_2 e^{-R_2t}$$\n",
    "\n",
    "However the actual time dependent signal $S(t)$ will be affected by additive Gaussian noise, so will have the distribution:\n",
    "\n",
    "$$P(S(t)) = \\frac{\\sqrt{\\beta}}{\\sqrt{2\\pi}} \\exp{\\bigg(-\\frac{\\beta}{2} (S(t) - S_{true}(t))^2}\\bigg)$$\n",
    "\n",
    "Given $S(t)$ our aim will be to infer the values of $A_1$, $A_2$, $R_1$, $R_2$ and $\\beta$.\n",
    "\n",
    "Here's how we can generate some sample data from this model in Python:"
   ]
  },
  {
   "cell_type": "code",
   "execution_count": 1,
   "metadata": {
    "tags": [],
    "vscode": {
     "languageId": "python"
    }
   },
   "outputs": [
    {
     "name": "stdout",
     "output_type": "stream",
     "text": [
      "Data samples are:\n",
      "[ 1.77351315e+01  1.71911415e+01  1.59104727e+01  1.33366863e+01\n",
      "  1.33231870e+01  1.11140272e+01  1.12134380e+01  1.08625444e+01\n",
      "  1.01479486e+01  1.03661858e+01  8.47008373e+00  8.20289869e+00\n",
      "  8.44825227e+00  7.87534002e+00  7.82397402e+00  8.09264945e+00\n",
      "  7.24495864e+00  7.29030316e+00  6.26065395e+00  7.29403335e+00\n",
      "  5.51157551e+00  6.77309239e+00  4.73190332e+00  3.30938630e+00\n",
      "  6.06829596e+00  4.12078822e+00  3.64036315e+00  5.45388127e+00\n",
      "  6.01127789e+00  5.08452259e+00  5.12772826e+00  3.19716873e+00\n",
      "  5.30807774e+00  4.02763422e+00  3.58892623e+00  3.99408825e+00\n",
      "  4.05028403e+00  5.69477499e+00  5.89700454e-01  4.22331734e+00\n",
      "  4.19088003e+00  3.73598352e+00  4.19099010e+00  4.24691852e+00\n",
      "  2.81633184e+00  3.27548806e+00  2.59297259e+00  2.85697659e+00\n",
      "  1.89877714e+00  2.37939004e+00  3.29933922e+00  5.13720486e-01\n",
      "  4.72334301e+00  1.51318327e+00  2.31414526e+00  1.52984906e+00\n",
      "  2.35188905e+00  2.40658127e+00  3.18639247e+00  2.26958989e+00\n",
      "  1.59678799e+00  2.78602075e+00  9.24114818e-01  1.93726488e+00\n",
      " -8.54954493e-02  3.31016247e+00  9.97557788e-01  2.26503221e+00\n",
      "  8.16917350e-01  1.47569792e+00  4.64025362e+00  1.63294465e+00\n",
      "  1.53387993e+00  2.18158271e+00  1.65811780e+00 -5.17343735e-02\n",
      "  6.81901224e-01  1.34890835e+00  2.28105268e+00  1.35255769e+00\n",
      "  1.10468250e+00  9.15694481e-01  1.00049376e+00  2.93005633e+00\n",
      "  1.46184827e+00  1.83918306e+00  2.27416379e+00  8.41871254e-01\n",
      "  3.35913154e+00  1.21830330e+00 -3.29004164e-01  4.62653153e-01\n",
      "  7.50083916e-01  9.44484801e-01  2.23093342e+00  1.34276223e+00\n",
      "  1.53318130e+00  4.79128404e-01 -8.63974588e-02 -1.00930246e-01\n",
      " -2.75622394e-01  2.58146546e+00  6.41171295e-01 -1.58563648e-01\n",
      " -3.99170177e-01  1.49137956e+00 -3.48800991e-01  1.10082275e+00\n",
      "  1.44289227e+00  1.87499988e+00 -2.63283080e-02  6.84110910e-01\n",
      "  5.76038145e-01 -4.22067675e-01  4.31067445e-01 -6.93860297e-01\n",
      " -2.87733634e-01  6.98723394e-01 -6.40562649e-01  8.15721456e-01\n",
      " -1.16523953e+00 -2.92265519e-01 -6.40420786e-01 -8.52021134e-01\n",
      " -1.26431627e+00 -3.60014285e-02  5.55428848e-01  7.93602679e-01\n",
      " -6.96294187e-01  6.94956638e-01  1.17248461e+00  1.01514514e+00\n",
      "  1.17902497e+00  3.89805688e-01 -4.61017340e-02  2.31065150e-01\n",
      "  9.56107204e-01  4.70839096e-01  8.74389332e-01 -3.29077950e-02\n",
      "  1.04978093e-01  1.66723420e+00 -7.69865974e-01  3.14757312e-01\n",
      " -9.39744782e-01  6.39166362e-01  1.48301386e+00 -6.91393412e-01\n",
      "  1.25018029e+00 -1.43146238e+00 -3.35399795e-01  2.96634196e-01\n",
      " -5.07268849e-01  3.59447667e-01 -1.40153017e-01  1.27326734e+00\n",
      "  3.55570990e-02  5.76343886e-01 -2.18233043e+00  2.47438397e+00\n",
      " -1.47302148e-01  4.90190392e-02  1.19754467e+00  2.10192201e+00\n",
      " -6.75492931e-01 -5.64180092e-01 -4.90850130e-01  8.66765725e-01\n",
      "  4.25131507e-01  5.53683281e-01 -1.26599273e+00  1.12482187e+00\n",
      "  7.82881002e-01  5.48127567e-01  7.68911350e-03  6.69948359e-01\n",
      " -1.10581438e+00 -7.13749998e-02 -3.60475769e-01  1.66440220e+00\n",
      "  5.03784933e-01 -8.83873247e-02  7.82112456e-01 -1.25626394e+00\n",
      "  4.83748524e-01 -9.21030145e-01 -1.58339757e+00  3.05582634e-01\n",
      "  2.74145781e-02  3.45604902e-01 -9.97871112e-01  1.47877058e+00\n",
      "  1.17473679e-01  6.12511094e-02  4.13403310e-01  1.73761496e+00\n",
      " -6.52299491e-02 -7.98780487e-01 -6.89634028e-01  1.60359412e+00]\n"
     ]
    }
   ],
   "source": [
    "import numpy as np\n",
    "%matplotlib inline\n",
    "# Ground truth parameters\n",
    "# We infer the precision, BETA, but it is useful to\n",
    "# derive the variance and standard deviation from it\n",
    "A1_TRUTH = 10.0\n",
    "A2_TRUTH = 10.0\n",
    "R1_TRUTH = 10.0\n",
    "R2_TRUTH = 1.0\n",
    "BETA_TRUTH = 1.0\n",
    "VAR_TRUTH = 1/BETA_TRUTH\n",
    "STD_TRUTH = np.sqrt(VAR_TRUTH)\n",
    "\n",
    "# Observed data samples are generated by Numpy from the ground truth\n",
    "# Gaussian distribution. Reducing the number of samples should make\n",
    "# the inference less 'confident' - i.e. the output variances for\n",
    "# MU and BETA will increase\n",
    "N = 200\n",
    "T = np.linspace(0, 5, N)\n",
    "\n",
    "\n",
    "DATA_CLEAN = A1_TRUTH * np.exp(-R1_TRUTH * T) + A2_TRUTH * np.exp(-R2_TRUTH*T)\n",
    "DATA = DATA_CLEAN + np.random.normal(0, STD_TRUTH, [N])\n",
    "print(\"Data samples are:\")\n",
    "print(DATA)"
   ]
  },
  {
   "cell_type": "markdown",
   "metadata": {},
   "source": [
    "We can plot this data to illustrate the true signal (green line) and the measured data (red crosses):"
   ]
  },
  {
   "cell_type": "code",
   "execution_count": 2,
   "metadata": {
    "tags": [],
    "vscode": {
     "languageId": "python"
    }
   },
   "outputs": [
    {
     "data": {
      "text/plain": [
       "[<matplotlib.lines.Line2D at 0x14710a3a8e80>]"
      ]
     },
     "execution_count": 2,
     "metadata": {},
     "output_type": "execute_result"
    },
    {
     "data": {
      "image/png": "[encoded data removed]",
      "text/plain": [
       "<Figure size 640x480 with 1 Axes>"
      ]
     },
     "metadata": {},
     "output_type": "display_data"
    }
   ],
   "source": [
    "from matplotlib import pyplot as plt\n",
    "plt.figure()\n",
    "plt.plot(DATA, \"rx\")\n",
    "plt.plot(DATA_CLEAN, \"g\")"
   ]
  },
  {
   "cell_type": "markdown",
   "metadata": {},
   "source": [
    "As with the single Gaussian example we will use a multivariate normal distribution as our prior and approximate posterior distributions. \n",
    "\n",
    "One difference here is that we will choose to infer the log of the decay rate parameters $R_1$ and $R_2$. This is because if these parameters are allowed to become negative the model prediction will become an exponential growth and can easily lead to numerical errors.\n",
    "\n",
    "We will still choose our priors to be relatively uninformative as follows:\n"
   ]
  },
  {
   "cell_type": "code",
   "execution_count": 3,
   "metadata": {
    "tags": [],
    "vscode": {
     "languageId": "python"
    }
   },
   "outputs": [
    {
     "name": "stdout",
     "output_type": "stream",
     "text": [
      "Priors: Amplitude mean=1.000000, variance=100000.000000\n",
      "        Log decay rate mean=0.000000, variance=10.000000\n",
      "        Log noise variance mean=0.000000, variance=10.000000\n"
     ]
    }
   ],
   "source": [
    "a0 = 1.0\n",
    "v0 = 100000.0\n",
    "r0 = 0.0\n",
    "u0 = 10.0\n",
    "b0 = 0.0\n",
    "w0 = 10.0\n",
    "print(\"Priors: Amplitude mean=%f, variance=%f\" % (a0, v0))\n",
    "print(\"        Log decay rate mean=%f, variance=%f\" % (r0, u0))\n",
    "print(\"        Log noise variance mean=%f, variance=%f\" % (b0, w0))"
   ]
  },
  {
   "cell_type": "markdown",
   "metadata": {},
   "source": [
    "The posterior will be defined in the same way as for the single Gaussian example, however we need to account for the increased number of parameters we are inferring. We will initialize the posterior with the prior values but with reduced initial variance to prevent problems with generating a representative posterior sample. Remember that the decay rates (and the noise) are being inferred as their log-values so the prior mean of 0 translates into a value of 1.\n",
    "\n",
    "The code to generate a posterior sample is unchanged except for the number of parameters.\n",
    "\n",
    "In calculating the reconstruction cost we need to calculate the log likelihood of the data given a set of model parameters. We do this by observing that any difference between the biexponential model prediction (given these parameters) and the actual noisy data must be a result of the Gaussian noise - hence the likelihood is simply the likelihood of drawing these differences from the Gaussian noise distribution:\n",
    "\n",
    "$$\\log P(\\textbf{y} | A_1; A_2; r_1; r_2; \\beta) = \\frac{1}{2} \\bigg( N \\log \\beta - \\sum{\\frac{(y_n - M_n)^2}{\\beta}}\\bigg)$$\n",
    "\n",
    "Here $M_n$ is the model prediction for the nth data point which is calculated by evaluating the biexponential model for the given parameters $A_1$, $A_2$, $r_1$ and $r_2$.\n",
    "\n",
    "For the latent loss we will again use the analytic expression for the K-L divergence of two MVN distributions with a slight modification to the previous code to account for the different number of parameters (5 vs 2)"
   ]
  },
  {
   "cell_type": "code",
   "execution_count": 4,
   "metadata": {
    "tags": [],
    "vscode": {
     "languageId": "python"
    }
   },
   "outputs": [
    {
     "name": "stderr",
     "output_type": "stream",
     "text": [
      "2024-03-21 11:29:49.637594: I tensorflow/core/common_runtime/gpu/gpu_device.cc:1613] Created device /job:localhost/replica:0/task:0/device:GPU:0 with 14766 MB memory:  -> device: 0, name: Tesla V100-PCIE-16GB, pci bus id: 0000:01:00.0, compute capability: 7.0\n"
     ]
    }
   ],
   "source": [
    "import tensorflow as tf\n",
    "\n",
    "# Number of parameters - 4 for the biexponential + noise\n",
    "NUM_PARAMS = 4 + 1\n",
    "\n",
    "data = tf.constant(DATA, dtype=tf.float32)\n",
    "prior_means = tf.constant([a0, r0, a0, r0, b0], dtype=tf.float32)\n",
    "prior_covariance = tf.linalg.diag(tf.constant([v0, u0, v0, u0, w0], dtype=tf.float32))\n",
    "\n",
    "post_means_init = prior_means\n",
    "post_covariance_init = np.identity(NUM_PARAMS, dtype=np.float32)\n",
    "\n",
    "chol_off_diag = tf.Variable(np.zeros(post_covariance_init.shape), dtype=tf.float32)\n",
    "# Comment in this line if you do NOT want to infer parameter covariances\n",
    "#chol_off_diag = tf.constant([[0, 0], [0, 0]], dtype=tf.float32)\n",
    "chol_log_diag = tf.Variable(tf.math.log(tf.linalg.diag_part(post_covariance_init)), dtype=tf.float32)\n",
    "\n",
    "post_means = tf.Variable(post_means_init, dtype=tf.float32)\n",
    "\n",
    "t = tf.reshape(tf.constant(T, dtype=tf.float32), [1, -1])\n",
    "\n",
    "\n",
    "\n",
    "def cost_fun():\n",
    "\n",
    "    chol_diag = tf.linalg.diag(tf.math.sqrt(tf.math.exp(chol_log_diag)))\n",
    "    post_covariance_chol = tf.math.add(chol_diag, tf.linalg.band_part(chol_off_diag, -1, 0))\n",
    "\n",
    "    post_covariance = tf.matmul(tf.transpose(post_covariance_chol), post_covariance_chol)\n",
    "\n",
    "    S=5\n",
    "    N=200\n",
    "\n",
    "# eps is a sample from a Gaussian with mean 0 and variance 1\n",
    "    eps = tf.random.normal((NUM_PARAMS, S), 0, 1, dtype=tf.float32)\n",
    "\n",
    "# Start off each sample with the current posterior mean\n",
    "# post_samples is now a tensor of shape [NUM_PARAMS, n_samples]\n",
    "    samples = tf.tile(tf.reshape(post_means, [NUM_PARAMS, 1]), [1, S])\n",
    "\n",
    "# Now add the random sample scaled by the covariance\n",
    "    post_samples = tf.add(samples, tf.matmul(post_covariance_chol, eps))\n",
    "\n",
    "    a1 = tf.reshape(post_samples[0], [-1, 1])\n",
    "    r1 = tf.math.exp(tf.reshape(post_samples[1], [-1, 1]))\n",
    "    a2 = tf.reshape(post_samples[2], [-1, 1])\n",
    "    r2 = tf.math.exp(tf.reshape(post_samples[3], [-1, 1]))\n",
    "\n",
    "# Get the current estimate of the noise variance remembering that\n",
    "# we are inferring the log of the noise precision, beta\n",
    "    log_noise_var = -post_samples[4]\n",
    "    noise_var = tf.math.exp(log_noise_var)\n",
    "\n",
    "# Each sample value predicts the full set of values in the data sample.\n",
    "# For our constant-signal model, the prediction is simply a set of \n",
    "# constant values. The prediction tensor will have shape [S, N]\n",
    "# where S is the sample size and N is the number of data values\n",
    "    \n",
    "\n",
    "    prediction = a1*tf.math.exp(-r1*t) + a2*tf.exp(-r2*t)\n",
    "    diff = tf.reshape(data, [1, -1]) - prediction\n",
    "\n",
    "# To calculate the likelihood we need the sum of the squared difference between the data  \n",
    "# and the prediction. This gives a value for each posterior sample so has shape [S]\n",
    "    sum_square_diff = tf.reduce_sum(tf.math.square(diff), axis=1)\n",
    "\n",
    "# Now we calculate the likelihood for each posterior sample (shape [S])\n",
    "# Note that we are ignoring constant factors such as 2*PI here as they \n",
    "# are just an fixed offset and do not affect the optimization \n",
    "    log_likelihood = 0.5 * (-log_noise_var * tf.cast(N,dtype=tf.float32) - sum_square_diff / noise_var)\n",
    "\n",
    "# Finally to evaluate the expectation value we take the mean across all the posterior\n",
    "# samples. The negative of this is the reconstruction loss\n",
    "    reconstr_loss = -tf.reduce_mean(log_likelihood)\n",
    "\n",
    "    C = post_covariance\n",
    "    C0 = prior_covariance\n",
    "    #print(\"is this the problem? 1\")\n",
    "    #print(tf.linalg.det(C0))\n",
    "    C0_inv = tf.linalg.inv(C0)\n",
    "    #print(\"is this the problem? 2\")\n",
    "\n",
    "# m - m0 as row and column vectors\n",
    "    m_minus_m0 = tf.reshape(tf.subtract(post_means, prior_means), [-1, 1])\n",
    "    m_minus_m0_T = tf.reshape(tf.subtract(post_means, prior_means), [1, -1])\n",
    "\n",
    "    term1 = tf.linalg.trace(tf.matmul(C0_inv, C))\n",
    "    term2 = -tf.math.log(tf.linalg.det(C) / tf.linalg.det(C0))\n",
    "\n",
    "# Size of the MVN distribution\n",
    "    term3 = -NUM_PARAMS\n",
    "    term4 = tf.matmul(tf.matmul(m_minus_m0_T, C0_inv), m_minus_m0)\n",
    "          \n",
    "    latent_loss = 0.5 * (term1 + term2 + term3 + term4)\n",
    "\n",
    "    #cost = reconstr_loss + latent_loss\n",
    "    cost=reconstr_loss\n",
    "\n",
    "    return cost\n",
    "\n",
    "\n"
   ]
  },
  {
   "cell_type": "markdown",
   "metadata": {},
   "source": [
    "Finally we ask TensorFlow to minimise the total cost iteratively:"
   ]
  },
  {
   "cell_type": "code",
   "execution_count": 5,
   "metadata": {
    "tags": [],
    "vscode": {
     "languageId": "python"
    }
   },
   "outputs": [
    {
     "data": {
      "application/vnd.jupyter.widget-view+json": {
       "model_id": "9ff57578598c41dda7e1db5ccf0725ea",
       "version_major": 2,
       "version_minor": 0
      },
      "text/plain": [
       "Epoch::   0%|          | 0/5000 [00:00<?, ?it/s]"
      ]
     },
     "metadata": {},
     "output_type": "display_data"
    },
    {
     "name": "stderr",
     "output_type": "stream",
     "text": [
      "2024-03-21 11:30:05.668113: I tensorflow/core/util/cuda_solvers.cc:179] Creating GpuSolver handles for stream 0x24e39810\n",
      "2024-03-21 11:30:05.791510: I tensorflow/compiler/xla/service/service.cc:173] XLA service 0x589b3830 initialized for platform CUDA (this does not guarantee that XLA will be used). Devices:\n",
      "2024-03-21 11:30:05.791553: I tensorflow/compiler/xla/service/service.cc:181]   StreamExecutor device (0): Tesla V100-PCIE-16GB, Compute Capability 7.0\n",
      "2024-03-21 11:30:05.797529: I tensorflow/compiler/mlir/tensorflow/utils/dump_mlir_util.cc:268] disabling MLIR crash reproducer, set env var `MLIR_CRASH_REPRODUCER_DIRECTORY` to enable.\n",
      "2024-03-21 11:30:06.047387: I tensorflow/compiler/jit/xla_compilation_cache.cc:477] Compiled cluster using XLA!  This line is logged at most once for the lifetime of the process.\n"
     ]
    }
   ],
   "source": [
    "optimizer = tf.keras.optimizers.Adam(learning_rate=0.02)\n",
    "#minimizer = optimizer.minimize(cost)\n",
    "#sess.run(tf.global_variables_initializer())\n",
    "from tqdm.notebook import tqdm_notebook\n",
    "\n",
    "cost_history = []\n",
    "for epoch in tqdm_notebook(range(5000), desc=\"Epoch:\"):\n",
    "    #sess.run(minimizer)\n",
    "\n",
    "    optimizer.minimize(cost_fun,var_list=[chol_off_diag,chol_log_diag,post_means])\n",
    "    #print(float(cost_fun()))\n",
    "    cost_history.append(float(cost_fun()))\n",
    "    #print(\"Epoch %i: posterior means=%s\" % (epoch+1, post_means))"
   ]
  },
  {
   "cell_type": "code",
   "execution_count": 6,
   "metadata": {
    "tags": [],
    "vscode": {
     "languageId": "python"
    }
   },
   "outputs": [
    {
     "name": "stdout",
     "output_type": "stream",
     "text": [
      "Estimate for amp1: 9.683552 (variance: 0.000006)\n",
      "Estimate for amp2: 8.460272 (variance: 0.000006)\n",
      "Estimate for r1: 1.021435\n",
      "Estimate for r2: 6.706778\n",
      "Estimate for beta (noise): 0.881937\n"
     ]
    }
   ],
   "source": [
    "final_means = post_means\n",
    "\n",
    "chol_diag = tf.linalg.diag(tf.math.sqrt(tf.math.exp(chol_log_diag)))\n",
    "post_covariance_chol = tf.add(chol_diag, tf.linalg.band_part(chol_off_diag, -1, 0))\n",
    "\n",
    "post_covariance = tf.matmul(tf.transpose(post_covariance_chol), post_covariance_chol)\n",
    "\n",
    "final_covariance = post_covariance\n",
    "print(\"Estimate for amp1: %f (variance: %f)\" % (final_means[0], final_covariance[0, 0]))\n",
    "print(\"Estimate for amp2: %f (variance: %f)\" % (final_means[2], final_covariance[0, 0]))\n",
    "print(\"Estimate for r1: %f\" % (np.exp(final_means[1]),))\n",
    "print(\"Estimate for r2: %f\" % (np.exp(final_means[3]),))\n",
    "print(\"Estimate for beta (noise): %f\" % np.exp(-final_means[4]))"
   ]
  },
  {
   "cell_type": "code",
   "execution_count": 7,
   "metadata": {
    "tags": [],
    "vscode": {
     "languageId": "python"
    }
   },
   "outputs": [
    {
     "data": {
      "image/png": "[encoded data removed]",
      "text/plain": [
       "<Figure size 640x480 with 1 Axes>"
      ]
     },
     "metadata": {},
     "output_type": "display_data"
    },
    {
     "data": {
      "image/png": "[encoded data removed]",
      "text/plain": [
       "<Figure size 640x480 with 1 Axes>"
      ]
     },
     "metadata": {},
     "output_type": "display_data"
    }
   ],
   "source": [
    "plt.figure()\n",
    "plt.plot(cost_history)\n",
    "plt.ylim(0, 500)\n",
    "\n",
    "plt.figure()\n",
    "plt.plot(DATA_CLEAN, 'g')\n",
    "plt.plot(DATA, 'rx')\n",
    "S=5\n",
    "eps = tf.random.normal((NUM_PARAMS, S), 0, 1, dtype=tf.float32)\n",
    "\n",
    "samples = tf.tile(tf.reshape(post_means, [NUM_PARAMS, 1]), [1, S])\n",
    "\n",
    "# Now add the random sample scaled by the covariance\n",
    "post_samples = tf.add(samples, tf.matmul(post_covariance_chol, eps))\n",
    "\n",
    "a1 = tf.reshape(post_samples[0], [-1, 1])\n",
    "r1 = tf.math.exp(tf.reshape(post_samples[1], [-1, 1]))\n",
    "a2 = tf.reshape(post_samples[2], [-1, 1])\n",
    "r2 = tf.math.exp(tf.reshape(post_samples[3], [-1, 1]))\n",
    "\n",
    "# Get the current estimate of the noise variance remembering that\n",
    "# we are inferring the log of the noise precision, beta\n",
    "log_noise_var = -post_samples[4]\n",
    "noise_var = tf.math.exp(log_noise_var)\n",
    "\n",
    "# Each sample value predicts the full set of values in the data sample.\n",
    "# For our constant-signal model, the prediction is simply a set of \n",
    "# constant values. The prediction tensor will have shape [S, N]\n",
    "# where S is the sample size and N is the number of data values\n",
    "t = tf.reshape(tf.constant(T, dtype=tf.float32), [1, -1])\n",
    "prediction = a1*tf.math.exp(-r1*t) + a2*tf.exp(-r2*t)\n",
    "\n",
    "plt.plot(prediction[0], 'b')\n",
    "plt.show()"
   ]
  },
  {
   "cell_type": "code",
   "execution_count": null,
   "metadata": {},
   "outputs": [],
   "source": []
  }
 ],
 "metadata": {
  "kernelspec": {
   "display_name": "sc_venv_tf",
   "language": "python",
   "name": "sc_venv_tf"
  },
  "language_info": {
   "codemirror_mode": {
    "name": "ipython",
    "version": 3
   },
   "file_extension": ".py",
   "mimetype": "text/x-python",
   "name": "python",
   "nbconvert_exporter": "python",
   "pygments_lexer": "ipython3",
   "version": "3.10.4"
  },
  "vscode": {
   "interpreter": {
    "hash": "31f2aee4e71d21fbe5cf8b01ff0e069b9275f58929596ceb00d14d90e3e16cd6"
   }
  }
 },
 "nbformat": 4,
 "nbformat_minor": 4
}
